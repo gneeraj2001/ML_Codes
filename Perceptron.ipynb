{
  "nbformat": 4,
  "nbformat_minor": 0,
  "metadata": {
    "colab": {
      "name": "Perceptron.ipynb",
      "provenance": [],
      "collapsed_sections": []
    },
    "kernelspec": {
      "name": "python3",
      "display_name": "Python 3"
    },
    "language_info": {
      "name": "python"
    }
  },
  "cells": [
    {
      "cell_type": "code",
      "execution_count": 1,
      "metadata": {
        "id": "cy2FXDv_oVtD"
      },
      "outputs": [],
      "source": [
        "import numpy as np\n",
        "import matplotlib.pyplot as plt\n",
        "import pandas as pd\n"
      ]
    },
    {
      "cell_type": "code",
      "source": [
        "class Perceptron():\n",
        "  def __init__(self,lr=0.01,n_iterations=100,random_state=1):\n",
        "    self.lr = lr\n",
        "    self.n_iterations = n_iterations\n",
        "    self.random_state = random_state\n",
        "\n",
        "  def step(self,x):\n",
        "      return 1 if x>0 else 0\n",
        "\n",
        "  def fit(self,X,y):\n",
        "      \n",
        "    self.weights = np.zeros(1 + X.shape[1])\n",
        "      \n",
        "\n",
        "    for item in range(self.n_iterations):\n",
        "          error = 0\n",
        "          for x, target in zip(X, y):\n",
        "              update = self.lr * (target - self.predict(x))\n",
        "              self.weights[1:] += update * x\n",
        "              self.weights[0] += update\n",
        "              \n",
        "    return self\n",
        "      \n",
        "\n",
        "  def net_input(self, X):\n",
        "      return np.dot(X, self.weights[1:]) + self.weights[0]     \n",
        "  def predict(self, X):\n",
        "      return self.step(self.net_input(X))"
      ],
      "metadata": {
        "id": "twgLBnA1oaO6"
      },
      "execution_count": 2,
      "outputs": []
    },
    {
      "cell_type": "code",
      "source": [
        "data = pd.read_csv(\"xor.csv\")\n",
        "X = data.iloc[:,:-1].values\n",
        "y = data.iloc[:,-1].values\n"
      ],
      "metadata": {
        "id": "-O_rnztWw6pN"
      },
      "execution_count": 3,
      "outputs": []
    },
    {
      "cell_type": "code",
      "source": [
        "per = Perceptron(lr=0.01,n_iterations=100)\n",
        "per.fit(X, y)"
      ],
      "metadata": {
        "colab": {
          "base_uri": "https://localhost:8080/"
        },
        "id": "54RtOTy-yutS",
        "outputId": "f7d212b2-f8fa-47d4-e68e-e998ef7f369d"
      },
      "execution_count": 6,
      "outputs": [
        {
          "output_type": "execute_result",
          "data": {
            "text/plain": [
              "<__main__.Perceptron at 0x7fe119706b10>"
            ]
          },
          "metadata": {},
          "execution_count": 6
        }
      ]
    }
  ]
}